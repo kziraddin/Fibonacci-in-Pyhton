{
 "cells": [
  {
   "cell_type": "code",
   "execution_count": 1,
   "id": "54884780",
   "metadata": {},
   "outputs": [],
   "source": [
    "import unittest"
   ]
  },
  {
   "cell_type": "code",
   "execution_count": 2,
   "id": "166dd52e",
   "metadata": {},
   "outputs": [],
   "source": [
    "def Fibnorecursion(n):\n",
    "    # Write your code here\n",
    "    x = 1\n",
    "    y = 1\n",
    "    z = 1\n",
    "    if n <= 0:\n",
    "        return 0\n",
    "    elif n == 1:\n",
    "        return x\n",
    "    elif n == 2:\n",
    "        return y\n",
    "    \n",
    "    for i in range(3, n+1):\n",
    "        x = y\n",
    "        y = z\n",
    "        z = x + y\n",
    "    return z"
   ]
  },
  {
   "cell_type": "code",
   "execution_count": 3,
   "id": "e061ce65",
   "metadata": {},
   "outputs": [
    {
     "data": {
      "text/plain": [
       "55"
      ]
     },
     "execution_count": 3,
     "metadata": {},
     "output_type": "execute_result"
    }
   ],
   "source": [
    "Fibnorecursion(10)"
   ]
  },
  {
   "cell_type": "code",
   "execution_count": 4,
   "id": "2f5da7ee",
   "metadata": {},
   "outputs": [
    {
     "name": "stderr",
     "output_type": "stream",
     "text": [
      "test_Fibnorecursion (__main__.TestNotebook) ... ok\n",
      "\n",
      "----------------------------------------------------------------------\n",
      "Ran 1 test in 0.003s\n",
      "\n",
      "OK\n"
     ]
    }
   ],
   "source": [
    "class TestNotebook(unittest.TestCase):\n",
    "    def test_Fibnorecursion(self):\n",
    "        \n",
    "        \n",
    "        self.assertEqual(Fibnorecursion(0), 0)\n",
    "        \n",
    "        self.assertEqual(Fibnorecursion(1), 1)\n",
    "        \n",
    "        self.assertEqual(Fibnorecursion(4), 3)\n",
    "\n",
    "        self.assertEqual(Fibnorecursion(12), 144)\n",
    "\n",
    "        self.assertEqual(Fibnorecursion(19), 4181)\n",
    "        \n",
    "unittest.main(argv=[''], verbosity=2, exit=False);"
   ]
  },
  {
   "cell_type": "code",
   "execution_count": null,
   "id": "aa1c91db",
   "metadata": {},
   "outputs": [],
   "source": []
  }
 ],
 "metadata": {
  "kernelspec": {
   "display_name": "Python 3 (ipykernel)",
   "language": "python",
   "name": "python3"
  },
  "language_info": {
   "codemirror_mode": {
    "name": "ipython",
    "version": 3
   },
   "file_extension": ".py",
   "mimetype": "text/x-python",
   "name": "python",
   "nbconvert_exporter": "python",
   "pygments_lexer": "ipython3",
   "version": "3.9.12"
  }
 },
 "nbformat": 4,
 "nbformat_minor": 5
}
